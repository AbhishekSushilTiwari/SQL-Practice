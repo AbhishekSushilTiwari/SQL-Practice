{
 "cells": [
  {
   "cell_type": "markdown",
   "id": "b3a47b2f-f8a1-4d9c-be7b-0c890332c927",
   "metadata": {},
   "source": [
    "These are the SQL questions practiced from SQL Practice.com on Hospital dataset (easy question set)"
   ]
  },
  {
   "cell_type": "markdown",
   "id": "80e6a7ee-a473-4da6-b256-0ecdc0133932",
   "metadata": {},
   "source": [
    "Q.1 \n",
    "Show first name, last name, and gender of patients whose gender is 'M'   \n",
    "\n",
    "ANS  \n",
    "SELECT first_name, last_name, gender  \n",
    "from patients  \n",
    "where gender = 'M'"
   ]
  },
  {
   "cell_type": "code",
   "execution_count": null,
   "id": "b86e912e-609c-4640-99c3-a4928f351b27",
   "metadata": {},
   "outputs": [],
   "source": []
  },
  {
   "cell_type": "markdown",
   "id": "6e55c804-965e-44a6-9474-90acd799fe12",
   "metadata": {},
   "source": [
    "Q.2 Show first name and last name of patients who does not have allergies. (null)  \n",
    "\n",
    "ANS  \n",
    "SELECT first_name, last_name  \n",
    "\n",
    "from patient  \n",
    "\r\n",
    "where allergies is null;"
   ]
  },
  {
   "cell_type": "code",
   "execution_count": null,
   "id": "737a7bba-470f-47a2-bebb-4c467516c3f2",
   "metadata": {},
   "outputs": [],
   "source": []
  },
  {
   "cell_type": "markdown",
   "id": "a7e838da-353c-4e8b-8867-b8c2a816186f",
   "metadata": {},
   "source": [
    "Q.3 Show first name of patients that start with the letter 'C'  \n",
    "\n",
    "ANS  \n",
    "SELECT first_name  \r\n",
    "from patient  \r\n",
    "where first_name like 'c%'"
   ]
  },
  {
   "cell_type": "code",
   "execution_count": null,
   "id": "31da7f85-8d1f-4c4c-b820-a9712da730ca",
   "metadata": {},
   "outputs": [],
   "source": []
  },
  {
   "cell_type": "markdown",
   "id": "9053faa1-f865-4fe6-a07f-9e8ef90f729d",
   "metadata": {},
   "source": [
    "Q.4 Show first name and last name of patients that weight within the range of 100 to 120 (inclusive)  \n",
    "\n",
    "ANS  \n",
    "SELECT first_name, last_name  \n",
    "from patients  \n",
    "where weight between 100 and 120"
   ]
  },
  {
   "cell_type": "code",
   "execution_count": null,
   "id": "f8328095-4284-4ea8-8a8c-a991d2afdca6",
   "metadata": {},
   "outputs": [],
   "source": []
  },
  {
   "cell_type": "markdown",
   "id": "9098169a-01c9-4e75-b5bb-0e3d400d930c",
   "metadata": {},
   "source": [
    "Q.5 Update the patients table for the allergies column. If the patient's allergies is null then replace it with 'NKA'  \n",
    "\n",
    "ANS  \n",
    "update patients   \r\n",
    "set allergies = 'NKA  \r\n",
    "where allergies is null"
   ]
  },
  {
   "cell_type": "code",
   "execution_count": null,
   "id": "856d853c-02e8-474d-9785-311d83720af0",
   "metadata": {},
   "outputs": [],
   "source": []
  },
  {
   "cell_type": "markdown",
   "id": "0dc989fc-9e6a-4426-9ce0-597003f92d05",
   "metadata": {},
   "source": [
    "Q.6 Show first name and last name concatinated into one column to show their full name.  \n",
    "\n",
    "ANS  \n",
    "SELECT CONCAT(first_name, ' ', last_name) AS full_name  \r\n",
    "FROM patients;"
   ]
  },
  {
   "cell_type": "code",
   "execution_count": null,
   "id": "47f8a96a-5676-4ef1-8653-13b81807c228",
   "metadata": {},
   "outputs": [],
   "source": []
  },
  {
   "cell_type": "markdown",
   "id": "3823f3d4-9f4d-4ea5-af5b-d8aff6a00cce",
   "metadata": {},
   "source": [
    "Q.7 Show first name, last name, and the full province name of each patient.  \n",
    "\r\n",
    "Example: 'Ontario' instead of 'O  \n",
    "\n",
    "ANS  \n",
    "SELECT p.first_name, p.last_name, pr.province_name  \n",
    "\n",
    "from patients   \n",
    "\r\n",
    "join province_names   \n",
    "r\r\n",
    "on p.province_id =pr.province_idN'"
   ]
  },
  {
   "cell_type": "code",
   "execution_count": null,
   "id": "54f3688b-a9ba-4e23-86f5-fbdccd87727e",
   "metadata": {},
   "outputs": [],
   "source": []
  },
  {
   "cell_type": "markdown",
   "id": "93aaf566-bf91-4399-84a4-e310e565b52e",
   "metadata": {},
   "source": [
    "Q.8 Show how many patients have a birth_date with 2010 as the birth year.  \n",
    "\n",
    "ANS  \n",
    "SELECT count (*)  \n",
    "\n",
    "from patient  \n",
    "\r\n",
    "where year(birth_date) = 200\n"
   ]
  },
  {
   "cell_type": "code",
   "execution_count": null,
   "id": "3fe49a50-c3c0-4c5c-a187-8f5c938ddd59",
   "metadata": {},
   "outputs": [],
   "source": []
  },
  {
   "cell_type": "markdown",
   "id": "b6c7492b-eac6-4a3b-8e8f-06ab66f89969",
   "metadata": {},
   "source": [
    "Q.9 Show the first_name, last_name, and height of the patient with the greatest height.  \n",
    "\n",
    "ANS  \n",
    "SELECT first_name, last_name, max(height)  \n",
    "\n",
    "from patients"
   ]
  },
  {
   "cell_type": "code",
   "execution_count": null,
   "id": "0be4c786-3aa9-4e2d-8920-789aa9dc078d",
   "metadata": {},
   "outputs": [],
   "source": []
  },
  {
   "cell_type": "markdown",
   "id": "c92063fa-d984-4f65-8649-302f35baa87c",
   "metadata": {},
   "source": [
    "Q.10 Show all columns for patients who have one of the following patient_ids:  \n",
    "\n",
    "1,45,534,879,100  \n",
    "\n",
    "ANS  \n",
    "select *  \n",
    "\n",
    "from patient  \n",
    "\r\n",
    "where patient_id in (1,45,534,879,1000)0"
   ]
  },
  {
   "cell_type": "code",
   "execution_count": null,
   "id": "b31f82f7-aa1a-4936-a854-ddb08cb773c7",
   "metadata": {},
   "outputs": [],
   "source": []
  },
  {
   "cell_type": "markdown",
   "id": "0fa30c57-0132-4341-b9c3-78c83df45a0c",
   "metadata": {},
   "source": [
    "Q.11 Show the total number of admissions.  \n",
    "\n",
    "ANS  \n",
    "select count (*)  \n",
    "\n",
    "from admissions"
   ]
  },
  {
   "cell_type": "code",
   "execution_count": null,
   "id": "9b5a1a50-362e-4808-93d7-27d2ec2e3066",
   "metadata": {},
   "outputs": [],
   "source": []
  },
  {
   "cell_type": "markdown",
   "id": "78d8081f-8d64-4f6e-aeee-34cc03faa5a6",
   "metadata": {},
   "source": [
    "Q.12 Show all the columns from admissions where the patient was admitted and discharged on the same day.  \n",
    "\n",
    "ANS  \n",
    "select *  \n",
    "\n",
    "from admission  \n",
    "\r\n",
    "where admission_date = discharge_date\n"
   ]
  },
  {
   "cell_type": "code",
   "execution_count": null,
   "id": "87953a4c-dbda-4d15-a045-5002d8a95563",
   "metadata": {},
   "outputs": [],
   "source": []
  },
  {
   "cell_type": "markdown",
   "id": "b2218a5a-18b3-49f3-9955-cd14d5b75f71",
   "metadata": {},
   "source": [
    "Q.13 Show the patient id and the total number of admissions for patient_id 579.  \n",
    "\n",
    "ANS  \n",
    "select patient_id, count(patient_id) as total_admissions  \n",
    "\n",
    "from admission  \n",
    "\r\n",
    "where patient_id = 5  \n",
    "9\r\n",
    "group by patient_id"
   ]
  },
  {
   "cell_type": "code",
   "execution_count": null,
   "id": "461a450f-386f-4178-b749-ea53a56150c3",
   "metadata": {},
   "outputs": [],
   "source": []
  },
  {
   "cell_type": "markdown",
   "id": "c4709709-c8ee-48d4-82e9-1576be437f82",
   "metadata": {},
   "source": [
    "Q.14 Based on the cities that our patients live in, show unique cities that are in province_id 'NS'.  \n",
    "\n",
    "ANS  \n",
    "select distinct (city)  \n",
    "\n",
    "from patient  \n",
    "\r\n",
    "where province_id = 'NS'"
   ]
  },
  {
   "cell_type": "code",
   "execution_count": null,
   "id": "962d341f-823b-4f20-932f-c0effed31117",
   "metadata": {},
   "outputs": [],
   "source": []
  },
  {
   "cell_type": "markdown",
   "id": "f82eac35-208f-4c66-86c9-1e9a18ec85d7",
   "metadata": {},
   "source": [
    "Q.15 Write a query to find the first_name, last name and birth date of patients who has height greater than 160 and weight greater than 70  \n",
    "\n",
    "ANS  \n",
    "select first_name, last_name, birth_date  \n",
    "from patients  \n",
    "where height > 160 and weight > 70"
   ]
  },
  {
   "cell_type": "code",
   "execution_count": null,
   "id": "841d8745-6e9f-47e5-ae56-fdcbd20bcc02",
   "metadata": {},
   "outputs": [],
   "source": []
  },
  {
   "cell_type": "markdown",
   "id": "1b63782b-69b0-4f20-9920-6f45b63ae032",
   "metadata": {},
   "source": [
    "Q.16 Write a query to find list of patients first_name, last_name, and allergies where allergies are not null and are from the city of 'Hamilton'  \n",
    "\n",
    "ANS  \n",
    "select first_name, last_name, allergies  \n",
    "\n",
    "from patient  \n",
    "\r\n",
    "where allergies is not null and city = 'Hamilton'"
   ]
  }
 ],
 "metadata": {
  "kernelspec": {
   "display_name": "Python 3 (ipykernel)",
   "language": "python",
   "name": "python3"
  },
  "language_info": {
   "codemirror_mode": {
    "name": "ipython",
    "version": 3
   },
   "file_extension": ".py",
   "mimetype": "text/x-python",
   "name": "python",
   "nbconvert_exporter": "python",
   "pygments_lexer": "ipython3",
   "version": "3.12.4"
  }
 },
 "nbformat": 4,
 "nbformat_minor": 5
}
