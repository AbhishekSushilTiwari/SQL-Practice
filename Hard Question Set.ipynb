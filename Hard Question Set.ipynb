{
 "cells": [
  {
   "cell_type": "markdown",
   "id": "c1e20236-07fa-4b27-8940-764b90817b11",
   "metadata": {},
   "source": [
    "Q.1 Show all of the patients grouped into weight groups.  \n",
    "Show the total amount of patients in each weight group.  \n",
    "Order the list by the weight group decending.  \n",
    "  \n",
    "For example, if they weight 100 to 109 they are placed in the 100 weight group, 110-119 = 110 weight group, etc.\n",
    "\n",
    "\n",
    "ANS  \n",
    "SELECT  \n",
    "FLOOR(weight / 10) * 10 AS weight_group,  \n",
    "COUNT(*) AS patients_in_group  \n",
    "FROM patients  \n",
    "GROUP BY weight_group  \n",
    "ORDER BY weight_group DESC"
   ]
  },
  {
   "cell_type": "code",
   "execution_count": null,
   "id": "a4629abb-5d77-44a3-a17e-3e0b7f932d3f",
   "metadata": {},
   "outputs": [],
   "source": []
  },
  {
   "cell_type": "markdown",
   "id": "85485b63-3aeb-4538-bfd5-6abcedcb2150",
   "metadata": {},
   "source": [
    "Q.2 Show patient_id, weight, height, isObese from the patients table.  \n",
    "  \n",
    "Display isObese as a boolean 0 or 1.  \n",
    "  \n",
    "Obese is defined as weight(kg)/(height(m)2) >= 30.  \n",
    "  \n",
    "weight is in units kg.  \n",
    "  \n",
    "height is in units cm.\n",
    "\n",
    "\n",
    "ANS  \n",
    "SELECT patient_id, weight, height,  \n",
    "CASE WHEN (weight / ((height / 100.0) * (height / 100.0))) >= 30 THEN 1 ELSE 0  \n",
    "END AS isObese  \n",
    "FROM patients;"
   ]
  },
  {
   "cell_type": "code",
   "execution_count": null,
   "id": "71a89573-676c-4ebf-932c-377e08f9210b",
   "metadata": {},
   "outputs": [],
   "source": []
  },
  {
   "cell_type": "markdown",
   "id": "6edcbcf6-cb01-4a59-a23d-1e3d67deeb9e",
   "metadata": {},
   "source": [
    "Q.3 Show patient_id, first_name, last_name, and attending doctor's specialty.  \n",
    "Show only the patients who has a diagnosis as 'Epilepsy' and the doctor's first name is 'Lisa'  \n",
    "Check patients, admissions, and doctors tables for required information.  \n",
    "\n",
    "ANS  \n",
    "select p.patient_id, p.first_name, p.last_name, d.specialty  \n",
    "from patients p  \n",
    "join admissions a  \n",
    "on p.patient_id = a.patient_id  \n",
    "join doctors d  \n",
    "on a.attending_doctor_id = d.doctor_id  \n",
    "where a.diagnosis = 'Epilepsy' and d.first_name = 'Lisa'"
   ]
  },
  {
   "cell_type": "code",
   "execution_count": null,
   "id": "5b71f277-5ee1-4166-856d-e320b5e71711",
   "metadata": {},
   "outputs": [],
   "source": []
  },
  {
   "cell_type": "markdown",
   "id": "d14a0dc3-9c50-48ce-a2a4-b7ef6fa87b5c",
   "metadata": {},
   "source": [
    "Q.4 All patients who have gone through admissions, can see their medical documents on our site. Those patients are given a temporary password after their first admission. Show the patient_id and temp_password.  \n",
    "  \n",
    "The password must be the following, in order:  \n",
    "1. patient_id\n",
    "2. the numerical length of patient's last_name\n",
    "3. year of patient's birth_date\n",
    "\n",
    "ANS  \n",
    "select p.patient_id, concat(p.patient_id,length(p.last_name),year(p.birth_date)) as temp_password  \n",
    "from patients p  \n",
    "inner join admissions a  \n",
    "on p.patient_id = a.patient_id  \n",
    "group by p.patient_id"
   ]
  },
  {
   "cell_type": "code",
   "execution_count": null,
   "id": "73fc3202-e019-4a87-858e-07112f4e8446",
   "metadata": {},
   "outputs": [],
   "source": []
  },
  {
   "cell_type": "markdown",
   "id": "1b2621a2-294b-4b61-86be-096d059f48b1",
   "metadata": {},
   "source": [
    "Q.5 Each admission costs $50 for patients without insurance, and $10 for patients with insurance. All patients with an even patient_id have insurance.  \n",
    "  \n",
    "Give each patient a 'Yes' if they have insurance, and a 'No' if they don't have insurance. Add up the admission_total cost for each has_insurance group.  \n",
    "\n",
    "ANS  \n",
    "SELECT  \n",
    "CASE WHEN patient_id % 2 = 0 THEN 'Yes'  \n",
    "ELSE 'No'  \n",
    "END AS has_insurance,  \n",
    "SUM( CASE WHEN patient_id % 2 = 0 THEN 10  \n",
    "ELSE 50  \n",
    "END ) AS total_cost  \n",
    "FROM admissions  \n",
    "GROUP BY has_insurance;"
   ]
  },
  {
   "cell_type": "code",
   "execution_count": null,
   "id": "c4d9b457-797e-449d-a31f-4df64037c387",
   "metadata": {},
   "outputs": [],
   "source": []
  },
  {
   "cell_type": "markdown",
   "id": "09c47458-9b44-47d9-99ef-1356074ddabd",
   "metadata": {},
   "source": [
    "Q.6 Show the provinces that has more patients identified as 'M' than 'F'. Must only show full province_name  \n",
    "\n",
    "ANS  \n",
    "select pr.province_name  \n",
    "from province_names pr  \n",
    "join patients p   \n",
    "on pr.province_id =p.province_id  \n",
    "group by pr.province_name  \n",
    "having  \n",
    "sum (case when p.gender = 'M' then 1 else 0 end) >  \n",
    "sum(case when p.gender = 'F' then 1 else 0 end)"
   ]
  },
  {
   "cell_type": "code",
   "execution_count": null,
   "id": "79aee286-9792-4b96-856b-ab13566b2683",
   "metadata": {},
   "outputs": [],
   "source": []
  },
  {
   "cell_type": "markdown",
   "id": "323f8a87-6f3e-4e80-9f5d-c9d14c86e70d",
   "metadata": {},
   "source": [
    "Q.7 \n",
    "We are looking for a specific patient. Pull all columns for the patient who matches the following criteria:  \n",
    "- First_name contains an 'r' after the first two letters.  \n",
    "- Identifies their gender as 'F'  \n",
    "- Born in February, May, or December  \n",
    "- Their weight would be between 60kg and 80kg  \n",
    "- Their patient_id is an odd number  \n",
    "- They are from the city 'Kingston'\n",
    "\n",
    "ANS  \n",
    "select *  \n",
    "from patients  \n",
    "where (first_name LIKE '__%r%')  \n",
    "and  \n",
    "gender = 'F'  \n",
    "and  \n",
    "month(birth_date) in (2,5,12)  \n",
    "and  \n",
    "weight between 60 and 80  \n",
    "and  \n",
    "patient_id %2 <> 0  \n",
    "and  \n",
    "city = 'Kingston'"
   ]
  },
  {
   "cell_type": "code",
   "execution_count": null,
   "id": "6d0fb9c3-d35e-4fd2-ade2-2646dff4a591",
   "metadata": {},
   "outputs": [],
   "source": []
  },
  {
   "cell_type": "markdown",
   "id": "3843f6a7-2f9f-4ff4-84db-b3ad8f0b9c2b",
   "metadata": {},
   "source": [
    "Q.8 Show the percent of patients that have 'M' as their gender. Round the answer to the nearest hundreth number and in percent form.  \n",
    "  \n",
    "ANS  \n",
    "SELECT  \n",
    "concat(ROUND((SUM(CASE WHEN gender = 'M' THEN 1 ELSE 0 END) * 100.0) / COUNT(*), 2), '%') AS percentage_of_male_patients  \n",
    "FROM patients"
   ]
  },
  {
   "cell_type": "code",
   "execution_count": null,
   "id": "d6c984de-6e18-436d-8019-f93dec283353",
   "metadata": {},
   "outputs": [],
   "source": []
  },
  {
   "cell_type": "markdown",
   "id": "dbac8a75-60d9-48e8-bd42-c56438762837",
   "metadata": {},
   "source": [
    "Q.9 For each day display the total amount of admissions on that day. Display the amount changed from the previous date.  \n",
    "\n",
    "ANS  \n",
    "select admission_date,  \n",
    "count(admission_date) as admission_day,  \n",
    "count(admission_date) - LAG(COUNT(*)) OVER (ORDER BY admission_date) AS admission_count_change  \n",
    "from admissions  \n",
    "group by admission_date"
   ]
  },
  {
   "cell_type": "code",
   "execution_count": null,
   "id": "0bf12d4b-723c-4331-aaa6-cdabaac58534",
   "metadata": {},
   "outputs": [],
   "source": []
  },
  {
   "cell_type": "markdown",
   "id": "67689e7f-ef4d-4ed6-8f81-71dfcfbbba18",
   "metadata": {},
   "source": [
    "Q.10 Sort the province names in ascending order in such a way that the province 'Ontario' is always on top.  \n",
    "\n",
    "ANS  \n",
    "select province_name  \n",
    "from province_names  \n",
    "order by  \n",
    "case when province_name = 'Ontario' then 0  \n",
    "else 1  \n",
    "end,  \n",
    "province_name"
   ]
  },
  {
   "cell_type": "code",
   "execution_count": null,
   "id": "66925073-4834-46b0-8665-a090944754d0",
   "metadata": {},
   "outputs": [],
   "source": []
  },
  {
   "cell_type": "markdown",
   "id": "a4064776-9f9e-4b10-a7f9-b5d60b254bf3",
   "metadata": {},
   "source": [
    "Q.11 We need a breakdown for the total amount of admissions each doctor has started each year. Show the doctor_id, doctor_full_name, specialty, year, total_admissions for that year.  \n",
    "\n",
    "ANS  \n",
    "Select d.doctor_id,  \n",
    "\n",
    "concat(d.first_name, ' ',d.last_name) as doctor_name  \n",
    "\r\n",
    "d.specialt  \n",
    ",\r\n",
    "year(a.admission_date) as selected_ye  \n",
    "r,\r\n",
    "count(a.admission_date) as total_admiss  \n",
    "ons\r\n",
    "from admissi  \n",
    "ns a\r\n",
    "join doc  \n",
    "ors d\r\n",
    "on a.attending_doctor_id = d.do  \n",
    "tor_id\r\n",
    "group by d.doctor_id, selected_year"
   ]
  },
  {
   "cell_type": "code",
   "execution_count": null,
   "id": "9f9dc999-3123-413e-85e4-bee2f055f06f",
   "metadata": {},
   "outputs": [],
   "source": []
  }
 ],
 "metadata": {
  "kernelspec": {
   "display_name": "Python 3 (ipykernel)",
   "language": "python",
   "name": "python3"
  },
  "language_info": {
   "codemirror_mode": {
    "name": "ipython",
    "version": 3
   },
   "file_extension": ".py",
   "mimetype": "text/x-python",
   "name": "python",
   "nbconvert_exporter": "python",
   "pygments_lexer": "ipython3",
   "version": "3.12.4"
  }
 },
 "nbformat": 4,
 "nbformat_minor": 5
}
